{
  "nbformat": 4,
  "nbformat_minor": 0,
  "metadata": {
    "colab": {
      "name": "Newton_backward.ipynb",
      "provenance": [],
      "collapsed_sections": []
    },
    "kernelspec": {
      "name": "python3",
      "display_name": "Python 3"
    },
    "language_info": {
      "name": "python"
    }
  },
  "cells": [
    {
      "cell_type": "markdown",
      "source": [
        "# Importing Necessary Modules"
      ],
      "metadata": {
        "id": "WGwA9lrf9CCK"
      }
    },
    {
      "cell_type": "code",
      "execution_count": 21,
      "metadata": {
        "id": "87zw-HEdYDGH"
      },
      "outputs": [],
      "source": [
        "import numpy as np\n",
        "import sympy as sym\n",
        "import matplotlib.pyplot as plt"
      ]
    },
    {
      "cell_type": "markdown",
      "source": [
        "# Taking user input of number of records and creating **empty array** for storing **x** values and their **functional values**"
      ],
      "metadata": {
        "id": "CtSLcQow9OXg"
      }
    },
    {
      "cell_type": "code",
      "source": [
        "n = int(input('How many records do you want to enter : '))\n",
        "\n",
        "x = np.empty([n])\n",
        "y = np.empty([n, n])\n",
        "\n",
        "x_axis = np.array([])\n",
        "y_axis = np.array([])\n",
        "\n",
        "expr = input('Enter the f(x) where f(x) = 0 in numpy notation : ')"
      ],
      "metadata": {
        "colab": {
          "base_uri": "https://localhost:8080/"
        },
        "id": "Pxf-ZW0DYVMK",
        "outputId": "db29c7cb-9394-48db-9a9a-bf77d11735be"
      },
      "execution_count": 22,
      "outputs": [
        {
          "name": "stdout",
          "output_type": "stream",
          "text": [
            "How many records do you want to enter : 5\n",
            "Enter the f(x) where f(x) = 0 in numpy notation : np.exp(2*x)\n"
          ]
        }
      ]
    },
    {
      "cell_type": "markdown",
      "source": [
        "# function to evaluate interpolating polynomial"
      ],
      "metadata": {
        "id": "22GAjB55CC2l"
      }
    },
    {
      "cell_type": "code",
      "source": [
        "def f(x0, expr):\n",
        "    x = sym.symbols('x')\n",
        "    val = eval(expr, {\"x\": x0, \"np\": np})\n",
        "    return val"
      ],
      "metadata": {
        "id": "aLXZ0JLCCCCQ"
      },
      "execution_count": 23,
      "outputs": []
    },
    {
      "cell_type": "markdown",
      "source": [
        "# Taking user input of **x** values and their **functional values**"
      ],
      "metadata": {
        "id": "cgkZ1v5R9UFF"
      }
    },
    {
      "cell_type": "code",
      "source": [
        "for i in range(n):\n",
        "    x[i] = float(input(f'Enter the value of x{i} : '))\n",
        "    y[i][0] = f(x[i], expr)\n",
        "\n",
        "    x_axis = np.append(x_axis, x[i])\n",
        "    y_axis = np.append(y_axis, y[i][0])\n",
        "\n",
        "    print(f'The value of f({i}) : {y[i][0]}')"
      ],
      "metadata": {
        "colab": {
          "base_uri": "https://localhost:8080/"
        },
        "id": "lqvtXqm9YVvc",
        "outputId": "d5d23535-4c35-45a5-ac67-3a80303778cc"
      },
      "execution_count": 24,
      "outputs": [
        {
          "output_type": "stream",
          "name": "stdout",
          "text": [
            "Enter the value of x0 : .1\n",
            "The value of f(0) : 1.2214027581601699\n",
            "Enter the value of x1 : .2\n",
            "The value of f(1) : 1.4918246976412703\n",
            "Enter the value of x2 : .3\n",
            "The value of f(2) : 1.8221188003905089\n",
            "Enter the value of x3 : .4\n",
            "The value of f(3) : 2.225540928492468\n",
            "Enter the value of x4 : .5\n",
            "The value of f(4) : 2.718281828459045\n"
          ]
        }
      ]
    },
    {
      "cell_type": "markdown",
      "source": [
        "# plotting the graph for values of **x** and **f(x)**"
      ],
      "metadata": {
        "id": "aKkUTmrcCd0J"
      }
    },
    {
      "cell_type": "code",
      "source": [
        "font1 = {'family':'monospace','color':'maroon','size':20}\n",
        "font2 = {'family':'monospace','color':'maroon','size':20}\n",
        "font3 = {'family':'sans-serif','color':'indianred','size':25}\n",
        "\n",
        "plt.plot(x_axis, y_axis, marker = '*')\n",
        "plt.title('Plot of Newton forward interpolation', fontdict = font3)\n",
        "plt.xlabel(\"X\", fontdict = font1)\n",
        "plt.ylabel(\"Y\", fontdict = font2)\n",
        "plt.show()"
      ],
      "metadata": {
        "colab": {
          "base_uri": "https://localhost:8080/",
          "height": 313
        },
        "id": "BElh6f9HCc27",
        "outputId": "b2dbf8c5-075d-4d89-a5fb-4bebda5ef8a0"
      },
      "execution_count": 25,
      "outputs": [
        {
          "output_type": "display_data",
          "data": {
            "text/plain": [
              "<Figure size 432x288 with 1 Axes>"
            ],
            "image/png": "[encoded data removed]"
          },
          "metadata": {
            "needs_background": "light"
          }
        }
      ]
    },
    {
      "cell_type": "markdown",
      "source": [
        "# Calculating and printing the **forward difference table**"
      ],
      "metadata": {
        "id": "6B78pS0b9ey7"
      }
    },
    {
      "cell_type": "code",
      "source": [
        "for i in range(1,n):\n",
        "    for j in range(n-i):\n",
        "        y[j][i] = y[j+1][i-1] - y[j][i-1]\n",
        "\n",
        "print('----------------------------------------------------------------------')\n",
        "print(f'x(i)\\t\\t y(i)\\t\\t y1(i)\\t\\t y2(i)\\t\\t y3(i)')\n",
        "print('----------------------------------------------------------------------')\n",
        "for i in range(n):\n",
        "    print('%0.2f' %(x[i]), end='')\n",
        "    for j in range(n-i):\n",
        "        print('\\t\\t%0.2f' %(y[i][j]), end='')\n",
        "    print()"
      ],
      "metadata": {
        "colab": {
          "base_uri": "https://localhost:8080/"
        },
        "id": "M3jPGiEBYWMp",
        "outputId": "f49bb9d9-54c2-47ee-d5aa-288c60dcf45b"
      },
      "execution_count": 26,
      "outputs": [
        {
          "output_type": "stream",
          "name": "stdout",
          "text": [
            "----------------------------------------------------------------------\n",
            "x(i)\t\t y(i)\t\t y1(i)\t\t y2(i)\t\t y3(i)\n",
            "----------------------------------------------------------------------\n",
            "0.10\t\t1.22\t\t0.27\t\t0.06\t\t0.01\t\t0.00\n",
            "0.20\t\t1.49\t\t0.33\t\t0.07\t\t0.02\n",
            "0.30\t\t1.82\t\t0.40\t\t0.09\n",
            "0.40\t\t2.23\t\t0.49\n",
            "0.50\t\t2.72\n"
          ]
        }
      ]
    },
    {
      "cell_type": "markdown",
      "source": [
        "# calculating and printing the value of h and u"
      ],
      "metadata": {
        "id": "lgwSC0Ek9y9R"
      }
    },
    {
      "cell_type": "code",
      "source": [
        "val = float(input(f\"Enter value of x for finding f(x) : \"))\n",
        "h = x[1] - x[0]\n",
        "u = (val - x[n - 1])/h\n",
        "print(f'The Value of h is {h} and the value of u is {u}')"
      ],
      "metadata": {
        "colab": {
          "base_uri": "https://localhost:8080/"
        },
        "id": "I52AsLPBYu2f",
        "outputId": "1b1c2c9d-ad35-4958-aa74-f56dde6d229c"
      },
      "execution_count": 27,
      "outputs": [
        {
          "output_type": "stream",
          "name": "stdout",
          "text": [
            "Enter value of x for finding f(x) : .35\n",
            "The Value of h is 0.1 and the value of u is -1.5000000000000002\n"
          ]
        }
      ]
    },
    {
      "cell_type": "markdown",
      "source": [
        "# printing the values of **coefficient** and **multiplier**"
      ],
      "metadata": {
        "id": "cJl_VCTi9-ru"
      }
    },
    {
      "cell_type": "code",
      "source": [
        "print('----------------------------------------------------------------------')\n",
        "print(f'coefficient\\t\\t\\t Multiplier')\n",
        "print('----------------------------------------------------------------------')\n",
        "\n",
        "for i in range(n - 1):\n",
        "    if i == 0:\n",
        "        coef = 1\n",
        "    else:\n",
        "        coef = coef_cal(i, u)\n",
        "    mul = y[(n - 1) - i][i]\n",
        "    print(\"%0.3f\\t\\t\\t\\t%f\" %(coef, mul))"
      ],
      "metadata": {
        "colab": {
          "base_uri": "https://localhost:8080/"
        },
        "id": "rR6HjEtRqyuv",
        "outputId": "057d9bad-ed9b-4415-e521-7f12946a5cd4"
      },
      "execution_count": 29,
      "outputs": [
        {
          "output_type": "stream",
          "name": "stdout",
          "text": [
            "----------------------------------------------------------------------\n",
            "coefficient\t\t\t Multiplier\n",
            "----------------------------------------------------------------------\n",
            "1.000\t\t\t\t2.718282\n",
            "-1.500\t\t\t\t0.492741\n",
            "0.750\t\t\t\t0.089319\n",
            "0.375\t\t\t\t0.016191\n"
          ]
        }
      ]
    },
    {
      "cell_type": "markdown",
      "source": [
        "# Function to calculate **coefficient**"
      ],
      "metadata": {
        "id": "kLFqe_VL-KCC"
      }
    },
    {
      "cell_type": "code",
      "source": [
        "def coef_cal(n, u):\n",
        "    temp = u\n",
        "    if n == 1:\n",
        "        return temp\n",
        "    for i in range(1, n):\n",
        "        temp *= (u + i)\n",
        "    return temp"
      ],
      "metadata": {
        "id": "kc4qbwGbZAmu"
      },
      "execution_count": 28,
      "outputs": []
    },
    {
      "cell_type": "markdown",
      "source": [
        "# Function to calculate the value of **polynomial** for enterted interpolating point"
      ],
      "metadata": {
        "id": "GTmuIu5t-ykc"
      }
    },
    {
      "cell_type": "code",
      "source": [
        "def final_cal():\n",
        "    sum = y[n - 1][0]\n",
        "    for i in range(1, n):\n",
        "        sum = sum + coef_cal(i, u)/np.math.factorial(i)*y[(n - 1) - i][i]\n",
        "\n",
        "    return sum"
      ],
      "metadata": {
        "id": "jAsasFzPd2Jh"
      },
      "execution_count": 30,
      "outputs": []
    },
    {
      "cell_type": "markdown",
      "source": [
        "# Finally appending the values of **interpolating point** and value of **ploynomial** for plotting"
      ],
      "metadata": {
        "id": "pDMc202EC6F5"
      }
    },
    {
      "cell_type": "code",
      "source": [
        "sum = final_cal()\n",
        "\n",
        "x_axis = np.append(x_axis, val)\n",
        "y_axis = np.append(y_axis, sum)"
      ],
      "metadata": {
        "id": "jbihCpWLC47N"
      },
      "execution_count": 31,
      "outputs": []
    },
    {
      "cell_type": "markdown",
      "source": [
        "# Using special variable and creating  main function"
      ],
      "metadata": {
        "id": "KuW1XpWJ-_2g"
      }
    },
    {
      "cell_type": "code",
      "source": [
        "def main():\n",
        "    final_val = final_cal()\n",
        "    print(final_val)\n",
        "\n",
        "if __name__ == '__main__':\n",
        "    main()"
      ],
      "metadata": {
        "colab": {
          "base_uri": "https://localhost:8080/"
        },
        "id": "DGpSNDkT-9mC",
        "outputId": "b1a9a7ce-a0d0-4f91-d703-fcb140915cb7"
      },
      "execution_count": 32,
      "outputs": [
        {
          "output_type": "stream",
          "name": "stdout",
          "text": [
            "2.0136769396154044\n"
          ]
        }
      ]
    }
  ]
}
