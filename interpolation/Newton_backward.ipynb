{
  "nbformat": 4,
  "nbformat_minor": 0,
  "metadata": {
    "colab": {
      "name": "Newton_backward.ipynb",
      "provenance": [],
      "collapsed_sections": []
    },
    "kernelspec": {
      "name": "python3",
      "display_name": "Python 3"
    },
    "language_info": {
      "name": "python"
    }
  },
  "cells": [
    {
      "cell_type": "markdown",
      "source": [
        "# Importing Necessary Modules"
      ],
      "metadata": {
        "id": "WGwA9lrf9CCK"
      }
    },
    {
      "cell_type": "code",
      "execution_count": 1,
      "metadata": {
        "id": "87zw-HEdYDGH"
      },
      "outputs": [],
      "source": [
        "import numpy as np\n",
        "import sympy as sym\n",
        "import matplotlib.pyplot as plt"
      ]
    },
    {
      "cell_type": "markdown",
      "source": [
        "# Taking user input of number of records and creating **empty array** for storing **x** values and their **functional values**"
      ],
      "metadata": {
        "id": "CtSLcQow9OXg"
      }
    },
    {
      "cell_type": "code",
      "source": [
        "n = int(input('How many records do you want to enter : '))\n",
        "\n",
        "x = np.empty([n])\n",
        "y = np.empty([n, n])\n",
        "\n",
        "x_axis = np.array([])\n",
        "y_axis = np.array([])\n",
        "\n",
        "expr = input('Enter the f(x) where f(x) = 0 in numpy notation : ')"
      ],
      "metadata": {
        "colab": {
          "base_uri": "https://localhost:8080/"
        },
        "id": "Pxf-ZW0DYVMK",
        "outputId": "b7675f07-011c-4a45-d1c4-61f721800c16"
      },
      "execution_count": 2,
      "outputs": [
        {
          "name": "stdout",
          "output_type": "stream",
          "text": [
            "How many records do you want to enter : 5\n",
            "Enter the f(x) where f(x) = 0 in numpy notation : np.exp(2*x)\n"
          ]
        }
      ]
    },
    {
      "cell_type": "markdown",
      "source": [
        "# function to evaluate interpolating polynomial"
      ],
      "metadata": {
        "id": "22GAjB55CC2l"
      }
    },
    {
      "cell_type": "code",
      "source": [
        "def f(x0, expr):\n",
        "    x = sym.symbols('x')\n",
        "    val = eval(expr, {\"x\": x0, \"np\": np})\n",
        "    return val"
      ],
      "metadata": {
        "id": "aLXZ0JLCCCCQ"
      },
      "execution_count": 3,
      "outputs": []
    },
    {
      "cell_type": "markdown",
      "source": [
        "# Taking user input of **x** values and their **functional values**"
      ],
      "metadata": {
        "id": "cgkZ1v5R9UFF"
      }
    },
    {
      "cell_type": "code",
      "source": [
        "for i in range(n):\n",
        "    x[i] = float(input(f'Enter the value of x{i} : '))\n",
        "    y[i][0] = f(x[i], expr)\n",
        "\n",
        "    x_axis = np.append(x_axis, x[i])\n",
        "    y_axis = np.append(y_axis, y[i][0])\n",
        "\n",
        "    print(f'The value of f({i}) : {y[i][0]}')"
      ],
      "metadata": {
        "colab": {
          "base_uri": "https://localhost:8080/"
        },
        "id": "lqvtXqm9YVvc",
        "outputId": "6878be61-198c-4925-f71f-ca5e9eaa95d1"
      },
      "execution_count": 14,
      "outputs": [
        {
          "output_type": "stream",
          "name": "stdout",
          "text": [
            "Enter the value of x0 : .1\n",
            "The value of f(0) : 1.2214027581601699\n",
            "Enter the value of x1 : .2\n",
            "The value of f(1) : 1.4918246976412703\n",
            "Enter the value of x2 : .3\n",
            "The value of f(2) : 1.8221188003905089\n",
            "Enter the value of x3 : .4\n",
            "The value of f(3) : 2.225540928492468\n",
            "Enter the value of x4 : .5\n",
            "The value of f(4) : 2.718281828459045\n"
          ]
        }
      ]
    },
    {
      "cell_type": "markdown",
      "source": [
        "# plotting the graph for values of **x** and **f(x)**"
      ],
      "metadata": {
        "id": "aKkUTmrcCd0J"
      }
    },
    {
      "cell_type": "code",
      "source": [
        "font1 = {'family':'monospace','color':'maroon','size':20}\n",
        "font2 = {'family':'monospace','color':'maroon','size':20}\n",
        "font3 = {'family':'sans-serif','color':'indianred','size':25}\n",
        "\n",
        "plt.plot(x_axis, y_axis, marker = '*')\n",
        "plt.title('Plot of Newton forward interpolation', fontdict = font3)\n",
        "plt.xlabel(\"X\", fontdict = font1)\n",
        "plt.ylabel(\"Y\", fontdict = font2)\n",
        "plt.show()"
      ],
      "metadata": {
        "colab": {
          "base_uri": "https://localhost:8080/",
          "height": 313
        },
        "id": "BElh6f9HCc27",
        "outputId": "5a5ad6e9-061f-4d82-e442-a2890c9c5fcf"
      },
      "execution_count": 15,
      "outputs": [
        {
          "output_type": "display_data",
          "data": {
            "text/plain": [
              "<Figure size 432x288 with 1 Axes>"
            ],
            "image/png": "[encoded data removed]"
          },
          "metadata": {
            "needs_background": "light"
          }
        }
      ]
    },
    {
      "cell_type": "markdown",
      "source": [
        "# Calculating and printing the **forward difference table**"
      ],
      "metadata": {
        "id": "6B78pS0b9ey7"
      }
    },
    {
      "cell_type": "code",
      "source": [
        "for i in range(1,n):\n",
        "    for j in range(n-i):\n",
        "        y[j][i] = y[j+1][i-1] - y[j][i-1]\n",
        "\n",
        "print('----------------------------------------------------------------------')\n",
        "print(f'x(i)\\t\\t y(i)\\t\\t y1(i)\\t\\t y2(i)\\t\\t y3(i)')\n",
        "print('----------------------------------------------------------------------')\n",
        "for i in range(n):\n",
        "    print('%0.2f' %(x[i]), end='')\n",
        "    for j in range(n-i):\n",
        "        print('\\t\\t%0.2f' %(y[i][j]), end='')\n",
        "    print()"
      ],
      "metadata": {
        "colab": {
          "base_uri": "https://localhost:8080/"
        },
        "id": "M3jPGiEBYWMp",
        "outputId": "64c62182-196c-4340-b74f-07f55ce615cc"
      },
      "execution_count": 16,
      "outputs": [
        {
          "output_type": "stream",
          "name": "stdout",
          "text": [
            "----------------------------------------------------------------------\n",
            "x(i)\t\t y(i)\t\t y1(i)\t\t y2(i)\t\t y3(i)\n",
            "----------------------------------------------------------------------\n",
            "0.10\t\t1.22\t\t0.27\t\t0.06\t\t0.01\t\t0.00\n",
            "0.20\t\t1.49\t\t0.33\t\t0.07\t\t0.02\n",
            "0.30\t\t1.82\t\t0.40\t\t0.09\n",
            "0.40\t\t2.23\t\t0.49\n",
            "0.50\t\t2.72\n"
          ]
        }
      ]
    },
    {
      "cell_type": "markdown",
      "source": [
        "# calculating and printing the value of h and u"
      ],
      "metadata": {
        "id": "lgwSC0Ek9y9R"
      }
    },
    {
      "cell_type": "code",
      "source": [
        "val = float(input(f\"Enter value of x for finding f(x) : \"))\n",
        "h = x[1] - x[0]\n",
        "u = (val - x[n - 1])/h\n",
        "print(f'The Value of h is {h} and the value of u is {u}')"
      ],
      "metadata": {
        "colab": {
          "base_uri": "https://localhost:8080/"
        },
        "id": "I52AsLPBYu2f",
        "outputId": "23ebafcd-f303-46d2-e21e-3673e4fcb2c9"
      },
      "execution_count": 17,
      "outputs": [
        {
          "output_type": "stream",
          "name": "stdout",
          "text": [
            "Enter value of x for finding f(x) : .37\n",
            "The Value of h is 0.1 and the value of u is -1.3\n"
          ]
        }
      ]
    },
    {
      "cell_type": "markdown",
      "source": [
        "# printing the values of **coefficient** and **multiplier**"
      ],
      "metadata": {
        "id": "cJl_VCTi9-ru"
      }
    },
    {
      "cell_type": "code",
      "source": [
        "print('----------------------------------------------------------------------')\n",
        "print(f'coefficient\\t\\t\\t Multiplier')\n",
        "print('----------------------------------------------------------------------')\n",
        "\n",
        "for i in range(n - 1):\n",
        "    if i == 0:\n",
        "        coef = 1\n",
        "    else:\n",
        "        coef = coef_cal(i, u)\n",
        "    mul = y[(n - 1) - i][i]\n",
        "    print(\"%0.3f\\t\\t\\t\\t%f\" %(coef, mul))"
      ],
      "metadata": {
        "colab": {
          "base_uri": "https://localhost:8080/"
        },
        "id": "rR6HjEtRqyuv",
        "outputId": "04f6a3d7-081f-4c16-885f-301a0cad3966"
      },
      "execution_count": 18,
      "outputs": [
        {
          "output_type": "stream",
          "name": "stdout",
          "text": [
            "----------------------------------------------------------------------\n",
            "coefficient\t\t\t Multiplier\n",
            "----------------------------------------------------------------------\n",
            "1.000\t\t\t\t2.718282\n",
            "-1.300\t\t\t\t0.492741\n",
            "0.390\t\t\t\t0.089319\n",
            "0.273\t\t\t\t0.016191\n"
          ]
        }
      ]
    },
    {
      "cell_type": "markdown",
      "source": [
        "# Function to calculate **coefficient**"
      ],
      "metadata": {
        "id": "kLFqe_VL-KCC"
      }
    },
    {
      "cell_type": "code",
      "source": [
        "def coef_cal(n, u):\n",
        "    temp = u\n",
        "    if n == 1:\n",
        "        return temp\n",
        "    for i in range(1, n):\n",
        "        temp *= (u + i)\n",
        "    return temp"
      ],
      "metadata": {
        "id": "kc4qbwGbZAmu"
      },
      "execution_count": 9,
      "outputs": []
    },
    {
      "cell_type": "markdown",
      "source": [
        "# Function to calculate the value of **polynomial** for enterted interpolating point"
      ],
      "metadata": {
        "id": "GTmuIu5t-ykc"
      }
    },
    {
      "cell_type": "code",
      "source": [
        "def final_cal():\n",
        "    sum = y[n - 1][0]\n",
        "    for i in range(1, n - 1):\n",
        "        sum = sum + coef_cal(i, u)/np.math.factorial(i)*y[(n - 1) - i][i]\n",
        "\n",
        "    return sum"
      ],
      "metadata": {
        "id": "jAsasFzPd2Jh"
      },
      "execution_count": 19,
      "outputs": []
    },
    {
      "cell_type": "markdown",
      "source": [
        "# Finally appending the values of **interpolating point** and value of **ploynomial** for plotting"
      ],
      "metadata": {
        "id": "pDMc202EC6F5"
      }
    },
    {
      "cell_type": "code",
      "source": [
        "sum = final_cal()\n",
        "\n",
        "x_axis = np.append(x_axis, val)\n",
        "y_axis = np.append(y_axis, sum)"
      ],
      "metadata": {
        "colab": {
          "base_uri": "https://localhost:8080/"
        },
        "id": "jbihCpWLC47N",
        "outputId": "de37f5ba-d3e2-4c81-f3bc-78a1effac1ac"
      },
      "execution_count": 12,
      "outputs": [
        {
          "output_type": "stream",
          "name": "stdout",
          "text": [
            "2.096047123605812\n"
          ]
        }
      ]
    },
    {
      "cell_type": "markdown",
      "source": [
        "# Using special variable and creating  main function"
      ],
      "metadata": {
        "id": "KuW1XpWJ-_2g"
      }
    },
    {
      "cell_type": "code",
      "source": [
        "def main():\n",
        "    final_val = final_cal()\n",
        "    print(final_val)\n",
        "\n",
        "if __name__ == '__main__':\n",
        "    main()"
      ],
      "metadata": {
        "colab": {
          "base_uri": "https://localhost:8080/"
        },
        "id": "DGpSNDkT-9mC",
        "outputId": "cb62dc86-ebb0-427a-fae2-d07fb93f54e3"
      },
      "execution_count": 20,
      "outputs": [
        {
          "output_type": "stream",
          "name": "stdout",
          "text": [
            "2.095872497982387\n"
          ]
        }
      ]
    }
  ]
}