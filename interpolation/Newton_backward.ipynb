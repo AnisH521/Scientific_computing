{
  "nbformat": 4,
  "nbformat_minor": 0,
  "metadata": {
    "colab": {
      "name": "Newton_backward.ipynb",
      "provenance": [],
      "collapsed_sections": []
    },
    "kernelspec": {
      "name": "python3",
      "display_name": "Python 3"
    },
    "language_info": {
      "name": "python"
    }
  },
  "cells": [
    {
      "cell_type": "markdown",
      "source": [
        "# Importing Necessary Modules"
      ],
      "metadata": {
        "id": "WGwA9lrf9CCK"
      }
    },
    {
      "cell_type": "code",
      "execution_count": 1,
      "metadata": {
        "id": "87zw-HEdYDGH"
      },
      "outputs": [],
      "source": [
        "import numpy as np"
      ]
    },
    {
      "cell_type": "markdown",
      "source": [
        "# Taking user input of number of records and creating **empty array** for storing **x** values and their **functional values**"
      ],
      "metadata": {
        "id": "CtSLcQow9OXg"
      }
    },
    {
      "cell_type": "code",
      "source": [
        "n = int(input('How many records do you want to enter : '))\n",
        "\n",
        "x = np.empty([n])\n",
        "y = np.empty([n, n])"
      ],
      "metadata": {
        "colab": {
          "base_uri": "https://localhost:8080/"
        },
        "id": "Pxf-ZW0DYVMK",
        "outputId": "9047c724-5e6d-4ae0-d411-6620fb25699e"
      },
      "execution_count": 2,
      "outputs": [
        {
          "name": "stdout",
          "output_type": "stream",
          "text": [
            "How many records do you want to enter : 8\n"
          ]
        }
      ]
    },
    {
      "cell_type": "markdown",
      "source": [
        "# Taking user input of **x** values and their **functional values**"
      ],
      "metadata": {
        "id": "cgkZ1v5R9UFF"
      }
    },
    {
      "cell_type": "code",
      "source": [
        "for i in range(n):\n",
        "    x[i] = float(input(f'Enter the value of x{i} : '))\n",
        "    y[i][0] = float(input(f'Enter the value of f({i}) : '))"
      ],
      "metadata": {
        "colab": {
          "base_uri": "https://localhost:8080/"
        },
        "id": "lqvtXqm9YVvc",
        "outputId": "8a613c0e-9a7c-45c6-b5d5-88f2e2b24a2b"
      },
      "execution_count": 3,
      "outputs": [
        {
          "name": "stdout",
          "output_type": "stream",
          "text": [
            "Enter the value of x0 : 1\n",
            "Enter the value of f(0) : 1\n",
            "Enter the value of x1 : 2\n",
            "Enter the value of f(1) : 8\n",
            "Enter the value of x2 : 3\n",
            "Enter the value of f(2) : 27\n",
            "Enter the value of x3 : 4\n",
            "Enter the value of f(3) : 64\n",
            "Enter the value of x4 : 5\n",
            "Enter the value of f(4) : 125\n",
            "Enter the value of x5 : 6\n",
            "Enter the value of f(5) : 216\n",
            "Enter the value of x6 : 7\n",
            "Enter the value of f(6) : 343\n",
            "Enter the value of x7 : 8\n",
            "Enter the value of f(7) : 512\n"
          ]
        }
      ]
    },
    {
      "cell_type": "markdown",
      "source": [
        "# Calculating and printing the **forward difference table**"
      ],
      "metadata": {
        "id": "6B78pS0b9ey7"
      }
    },
    {
      "cell_type": "code",
      "source": [
        "for i in range(1,n):\n",
        "    for j in range(n-i):\n",
        "        y[j][i] = y[j+1][i-1] - y[j][i-1]\n",
        "\n",
        "print('----------------------------------------------------------------------')\n",
        "print(f'x(i)\\t\\t y(i)\\t\\t y1(i)\\t\\t y2(i)\\t\\t y3(i)')\n",
        "print('----------------------------------------------------------------------')\n",
        "for i in range(n):\n",
        "    print('%0.2f' %(x[i]), end='')\n",
        "    for j in range(n-i):\n",
        "        print('\\t\\t%0.2f' %(y[i][j]), end='')\n",
        "    print()"
      ],
      "metadata": {
        "colab": {
          "base_uri": "https://localhost:8080/"
        },
        "id": "M3jPGiEBYWMp",
        "outputId": "6e86ba50-ef76-4970-c2c5-2a57e15fa4f7"
      },
      "execution_count": 38,
      "outputs": [
        {
          "output_type": "stream",
          "name": "stdout",
          "text": [
            "----------------------------------------------------------------------\n",
            "x(i)\t\t y(i)\t\t y1(i)\t\t y2(i)\t\t y3(i)\n",
            "----------------------------------------------------------------------\n",
            "1.00\t\t1.00\t\t7.00\t\t12.00\t\t6.00\t\t0.00\t\t0.00\t\t0.00\t\t0.00\n",
            "2.00\t\t8.00\t\t19.00\t\t18.00\t\t6.00\t\t0.00\t\t0.00\t\t0.00\n",
            "3.00\t\t27.00\t\t37.00\t\t24.00\t\t6.00\t\t0.00\t\t0.00\n",
            "4.00\t\t64.00\t\t61.00\t\t30.00\t\t6.00\t\t0.00\n",
            "5.00\t\t125.00\t\t91.00\t\t36.00\t\t6.00\n",
            "6.00\t\t216.00\t\t127.00\t\t42.00\n",
            "7.00\t\t343.00\t\t169.00\n",
            "8.00\t\t512.00\n"
          ]
        }
      ]
    },
    {
      "cell_type": "markdown",
      "source": [
        "# calculating and printing the value of h and u"
      ],
      "metadata": {
        "id": "lgwSC0Ek9y9R"
      }
    },
    {
      "cell_type": "code",
      "source": [
        "val = float(input(f\"Enter value of x for finding f(x) : \"))\n",
        "h = x[1] - x[0]\n",
        "u = (val - x[n - 1])/h\n",
        "print(f'The Value of h is {h} and the value of u is {u}')"
      ],
      "metadata": {
        "colab": {
          "base_uri": "https://localhost:8080/"
        },
        "id": "I52AsLPBYu2f",
        "outputId": "4a55022a-6c51-412b-cb83-6d6a878457a1"
      },
      "execution_count": 64,
      "outputs": [
        {
          "output_type": "stream",
          "name": "stdout",
          "text": [
            "Enter value of x for finding f(x) : 7.5\n",
            "The Value of h is 1.0 and the value of u is -0.5\n"
          ]
        }
      ]
    },
    {
      "cell_type": "markdown",
      "source": [
        "# printing the values of **coefficient** and **multiplier**"
      ],
      "metadata": {
        "id": "cJl_VCTi9-ru"
      }
    },
    {
      "cell_type": "code",
      "source": [
        "print('----------------------------------------------------------------------')\n",
        "print(f'coefficient\\t\\t\\t Multiplier')\n",
        "print('----------------------------------------------------------------------')\n",
        "\n",
        "for i in range(n - 1):\n",
        "    if i == 0:\n",
        "        coef = 1\n",
        "    else:\n",
        "        coef = coef_cal(i, u)\n",
        "    mul = y[(n - 1) - i][i]\n",
        "    print(\"%0.3f\\t\\t\\t\\t%f\" %(coef, mul))"
      ],
      "metadata": {
        "colab": {
          "base_uri": "https://localhost:8080/"
        },
        "id": "rR6HjEtRqyuv",
        "outputId": "f8f14e85-0aaf-47c7-c8f7-6f645c04a8b4"
      },
      "execution_count": 60,
      "outputs": [
        {
          "output_type": "stream",
          "name": "stdout",
          "text": [
            "----------------------------------------------------------------------\n",
            "coefficient\t\t\t Multiplier\n",
            "----------------------------------------------------------------------\n",
            "1.000\t\t\t\t512.000000\n",
            "-0.500\t\t\t\t169.000000\n",
            "-0.250\t\t\t\t42.000000\n",
            "-0.375\t\t\t\t6.000000\n",
            "-0.938\t\t\t\t0.000000\n",
            "-3.281\t\t\t\t0.000000\n",
            "-14.766\t\t\t\t0.000000\n"
          ]
        }
      ]
    },
    {
      "cell_type": "markdown",
      "source": [
        "# Function to calculate **coefficient**"
      ],
      "metadata": {
        "id": "kLFqe_VL-KCC"
      }
    },
    {
      "cell_type": "code",
      "source": [
        "def coef_cal(n, u):\n",
        "    temp = u\n",
        "    if n == 1:\n",
        "        return temp\n",
        "    for i in range(1, n):\n",
        "        temp *= (u + i)\n",
        "    return temp"
      ],
      "metadata": {
        "id": "kc4qbwGbZAmu"
      },
      "execution_count": 61,
      "outputs": []
    },
    {
      "cell_type": "markdown",
      "source": [
        "# Function to calculate the value of **polynomial** for enterted interpolating point"
      ],
      "metadata": {
        "id": "GTmuIu5t-ykc"
      }
    },
    {
      "cell_type": "code",
      "source": [
        "def final_cal():\n",
        "    sum = y[n - 1][0]\n",
        "    for i in range(1, n - 1):\n",
        "        sum = sum + coef_cal(i, u)/np.math.factorial(i)*y[(n - 1) - i][i]\n",
        "\n",
        "    print(sum)"
      ],
      "metadata": {
        "id": "jAsasFzPd2Jh"
      },
      "execution_count": 62,
      "outputs": []
    },
    {
      "cell_type": "markdown",
      "source": [
        "# Using special variable and creating  main function"
      ],
      "metadata": {
        "id": "KuW1XpWJ-_2g"
      }
    },
    {
      "cell_type": "code",
      "source": [
        "def main():\n",
        "    final_cal()\n",
        "\n",
        "if __name__ == '__main__':\n",
        "    main()"
      ],
      "metadata": {
        "colab": {
          "base_uri": "https://localhost:8080/"
        },
        "id": "DGpSNDkT-9mC",
        "outputId": "50bd9c8f-52ef-4acb-d761-2e248745c7e4"
      },
      "execution_count": 63,
      "outputs": [
        {
          "output_type": "stream",
          "name": "stdout",
          "text": [
            "421.875\n"
          ]
        }
      ]
    }
  ]
}