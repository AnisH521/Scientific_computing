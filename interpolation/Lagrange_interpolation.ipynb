{
  "nbformat": 4,
  "nbformat_minor": 0,
  "metadata": {
    "colab": {
      "name": "Lagrange_interpolation.ipynb",
      "provenance": [],
      "collapsed_sections": []
    },
    "kernelspec": {
      "name": "python3",
      "display_name": "Python 3"
    },
    "language_info": {
      "name": "python"
    }
  },
  "cells": [
    {
      "cell_type": "markdown",
      "source": [
        "# Importing necessary modules"
      ],
      "metadata": {
        "id": "ZhwgHz1kbxrF"
      }
    },
    {
      "cell_type": "code",
      "execution_count": 1,
      "metadata": {
        "id": "PIuNfb0e2ick"
      },
      "outputs": [],
      "source": [
        "import numpy as np\n",
        "import matplotlib.pyplot as plt"
      ]
    },
    {
      "cell_type": "markdown",
      "source": [
        "# Taking user input of number of records and creating **empty array** for storing **x** values and their **functional values**"
      ],
      "metadata": {
        "id": "5cTgxEXYb3AP"
      }
    },
    {
      "cell_type": "code",
      "source": [
        "n = int(input('How many records do you want to enter : '))\n",
        "\n",
        "x = np.empty(n)\n",
        "y = np.empty(n)\n",
        "\n",
        "x_axis = np.array([])\n",
        "y_axis = np.array([])"
      ],
      "metadata": {
        "colab": {
          "base_uri": "https://localhost:8080/"
        },
        "id": "SLc4VIPD2uJy",
        "outputId": "ed185a50-7187-4f2a-8741-3efd3932b639"
      },
      "execution_count": 2,
      "outputs": [
        {
          "name": "stdout",
          "output_type": "stream",
          "text": [
            "How many records do you want to enter : 4\n"
          ]
        }
      ]
    },
    {
      "cell_type": "markdown",
      "source": [
        "# Taking user input of **x** values and their **functional values**"
      ],
      "metadata": {
        "id": "gowoXaP_b-aU"
      }
    },
    {
      "cell_type": "code",
      "source": [
        "for i in range(n):\n",
        "    x[i] = float(input(f'Enter the value of x{i} : '))\n",
        "    y[i] = float(input(f'Enter the value of f(x{i}) : '))\n",
        "\n",
        "    x_axis = np.append(x_axis, x[i])\n",
        "    y_axis = np.append(y_axis, y[i])"
      ],
      "metadata": {
        "colab": {
          "base_uri": "https://localhost:8080/"
        },
        "id": "uTgyped13IQx",
        "outputId": "2558a92a-3326-4b2f-f252-c7a1f46c9c21"
      },
      "execution_count": 3,
      "outputs": [
        {
          "name": "stdout",
          "output_type": "stream",
          "text": [
            "Enter the value of x0 : 300\n",
            "Enter the value of f(x0) : 2.4771\n",
            "Enter the value of x1 : 304\n",
            "Enter the value of f(x1) : 2.4829\n",
            "Enter the value of x2 : 305\n",
            "Enter the value of f(x2) : 2.4843\n",
            "Enter the value of x3 : 307\n",
            "Enter the value of f(x3) : 2.4871\n"
          ]
        }
      ]
    },
    {
      "cell_type": "markdown",
      "source": [
        "# plotting the graph for values of **x** and **f(x)**"
      ],
      "metadata": {
        "id": "Av_m6LmecGkw"
      }
    },
    {
      "cell_type": "code",
      "source": [
        "font1 = {'family':'monospace','color':'maroon','size':20}\n",
        "font2 = {'family':'monospace','color':'maroon','size':20}\n",
        "font3 = {'family':'sans-serif','color':'indianred','size':25}\n",
        "\n",
        "plt.plot(x_axis, y_axis, marker = '*')\n",
        "plt.title('Plot of Lagrange interpolation', fontdict = font3)\n",
        "plt.xlabel(\"X\", fontdict = font1)\n",
        "plt.ylabel(\"Y\", fontdict = font2)\n",
        "plt.show()"
      ],
      "metadata": {
        "colab": {
          "base_uri": "https://localhost:8080/",
          "height": 313
        },
        "id": "jedfP9e9KX4i",
        "outputId": "3a6fdacb-e323-4bdc-cd3a-89483a8c83e2"
      },
      "execution_count": 5,
      "outputs": [
        {
          "output_type": "display_data",
          "data": {
            "text/plain": [
              "<Figure size 432x288 with 1 Axes>"
            ],
            "image/png": "[encoded data removed]"
          },
          "metadata": {
            "needs_background": "light"
          }
        }
      ]
    },
    {
      "cell_type": "code",
      "source": [
        "p = float(input(f\"Enter value of x for finding f(x) : \"))"
      ],
      "metadata": {
        "colab": {
          "base_uri": "https://localhost:8080/"
        },
        "id": "Z8z7uwul5b2u",
        "outputId": "8d76da2a-45d5-4729-e914-e67e76d1fc58"
      },
      "execution_count": 6,
      "outputs": [
        {
          "name": "stdout",
          "output_type": "stream",
          "text": [
            "Enter value of x for finding f(x) : 301\n"
          ]
        }
      ]
    },
    {
      "cell_type": "markdown",
      "source": [
        "# Function to calculate the value of **polynomial** for enterted **interpolating point**"
      ],
      "metadata": {
        "id": "-oN_-dSKcZAn"
      }
    },
    {
      "cell_type": "code",
      "source": [
        "def calc():\n",
        "    l = 0\n",
        "    for i in range (n):\n",
        "        z = 1\n",
        "        for j in range (n):\n",
        "            if j != i:\n",
        "                z *= (p - x[j])/(x[i] - x[j])\n",
        "        l += z*y[i]\n",
        "    return l  \n",
        "\n",
        "l = calc()\n",
        "\n",
        "print(f'The required value of f(x) at x = {p} is {l}')\n",
        "\n",
        "x_axis = np.sort(np.append(x_axis, p))\n",
        "y_axis = np.sort(np.append(y_axis, l))\n",
        "\n",
        "plt.plot(x_axis, y_axis, marker = '*')\n",
        "plt.title('Plot of Lagrange interpolation', fontdict = font3)\n",
        "plt.annotate(\"Interpolating Point\", (p, l))\n",
        "plt.xlabel(\"X\", fontdict = font1)\n",
        "plt.ylabel(\"Y\", fontdict = font2)\n",
        "plt.show()"
      ],
      "metadata": {
        "id": "WUcegR8F5u8M",
        "colab": {
          "base_uri": "https://localhost:8080/",
          "height": 330
        },
        "outputId": "b7563039-ce7a-4069-ebc6-831f34370d42"
      },
      "execution_count": 7,
      "outputs": [
        {
          "output_type": "stream",
          "name": "stdout",
          "text": [
            "2.4785971428571414\n"
          ]
        },
        {
          "output_type": "display_data",
          "data": {
            "text/plain": [
              "<Figure size 432x288 with 1 Axes>"
            ],
            "image/png": "[encoded data removed]"
          },
          "metadata": {
            "needs_background": "light"
          }
        }
      ]
    }
  ]
}