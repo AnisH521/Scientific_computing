{
  "nbformat": 4,
  "nbformat_minor": 0,
  "metadata": {
    "colab": {
      "name": "Newton_Forward.ipynb",
      "provenance": [],
      "collapsed_sections": []
    },
    "kernelspec": {
      "name": "python3",
      "display_name": "Python 3"
    },
    "language_info": {
      "name": "python"
    }
  },
  "cells": [
    {
      "cell_type": "markdown",
      "source": [
        "#Importing necessary modules"
      ],
      "metadata": {
        "id": "Vk36ayo_dP0E"
      }
    },
    {
      "cell_type": "code",
      "source": [
        "import numpy as np"
      ],
      "metadata": {
        "id": "7VtJrXGbdCuE"
      },
      "execution_count": 1,
      "outputs": []
    },
    {
      "cell_type": "markdown",
      "source": [
        "#Taking user input of number of records and creating **empty array** for storing **x** values and their **functional values**"
      ],
      "metadata": {
        "id": "eNlyqzajQc0Y"
      }
    },
    {
      "cell_type": "code",
      "source": [
        "n = int(input('How many records do you want to enter : '))\n",
        "\n",
        "x = np.empty([n])\n",
        "y = np.empty([n, n])"
      ],
      "metadata": {
        "colab": {
          "base_uri": "https://localhost:8080/"
        },
        "id": "CxJpbTbOdZA-",
        "outputId": "523e1488-71aa-4439-df71-592c5dfa255f"
      },
      "execution_count": 2,
      "outputs": [
        {
          "name": "stdout",
          "output_type": "stream",
          "text": [
            "How many records do you want to enter : 4\n"
          ]
        }
      ]
    },
    {
      "cell_type": "markdown",
      "source": [
        "# Taking user input of **x** values and their **functional values**"
      ],
      "metadata": {
        "id": "cJYG2UckRJ57"
      }
    },
    {
      "cell_type": "code",
      "source": [
        "for i in range(n):\n",
        "    x[i] = float(input(f'Enter the value of x{i} : '))\n",
        "    y[i][0] = float(input(f'Enter the value of f({i}) : '))"
      ],
      "metadata": {
        "colab": {
          "base_uri": "https://localhost:8080/"
        },
        "id": "Ze6V4n7_er4n",
        "outputId": "1cdef63e-804a-44af-f539-aeeaac408a48"
      },
      "execution_count": 3,
      "outputs": [
        {
          "name": "stdout",
          "output_type": "stream",
          "text": [
            "Enter the value of x0 : 0\n",
            "Enter the value of f(0) : 1\n",
            "Enter the value of x1 : 1\n",
            "Enter the value of f(1) : 2\n",
            "Enter the value of x2 : 2\n",
            "Enter the value of f(2) : 11\n",
            "Enter the value of x3 : 3\n",
            "Enter the value of f(3) : 34\n"
          ]
        }
      ]
    },
    {
      "cell_type": "markdown",
      "source": [
        "# Calculating and printing the **forward differnce table**"
      ],
      "metadata": {
        "id": "4kLoXN_FRq5o"
      }
    },
    {
      "cell_type": "code",
      "source": [
        "for i in range(1,n):\n",
        "    for j in range(n-i):\n",
        "        y[j][i] = y[j+1][i-1] - y[j][i-1]\n",
        "\n",
        "print('----------------------------------------------------------------------')\n",
        "print(f'x(i)\\t\\t y(i)\\t\\t y1(i)\\t\\t y2(i)\\t\\t y3(i)')\n",
        "print('----------------------------------------------------------------------')\n",
        "for i in range(n):\n",
        "    print('%0.2f' %(x[i]), end='')\n",
        "    for j in range(n-i):\n",
        "        print('\\t\\t%0.2f' %(y[i][j]), end='')\n",
        "    print()"
      ],
      "metadata": {
        "colab": {
          "base_uri": "https://localhost:8080/"
        },
        "id": "eGRKk6Jwp7Ay",
        "outputId": "fd25413c-6afc-4be8-f55a-cae3537c2ff8"
      },
      "execution_count": 4,
      "outputs": [
        {
          "output_type": "stream",
          "name": "stdout",
          "text": [
            "----------------------------------------------------------------------\n",
            "x(i)\t\t y(i)\t\t y1(i)\t\t y2(i)\t\t y3(i)\n",
            "----------------------------------------------------------------------\n",
            "0.00\t\t1.00\t\t1.00\t\t8.00\t\t6.00\n",
            "1.00\t\t2.00\t\t9.00\t\t14.00\n",
            "2.00\t\t11.00\t\t23.00\n",
            "3.00\t\t34.00\n"
          ]
        }
      ]
    },
    {
      "cell_type": "markdown",
      "source": [
        "# calculating and printing the value of **h** and **u**"
      ],
      "metadata": {
        "id": "f2MDsrLXBrco"
      }
    },
    {
      "cell_type": "code",
      "source": [
        "val = float(input(f\"Enter value of x for finding f(x) : \"))\n",
        "h = x[1] - x[0]\n",
        "u = (val - x[0])/h\n",
        "print(f'The Value of h is {h} and the value of u is {u}')"
      ],
      "metadata": {
        "id": "eV_aSTDIhK7K",
        "colab": {
          "base_uri": "https://localhost:8080/"
        },
        "outputId": "11ee574a-bff0-4168-cb61-6052ba078a2e"
      },
      "execution_count": 5,
      "outputs": [
        {
          "output_type": "stream",
          "name": "stdout",
          "text": [
            "Enter value of x for finding f(x) : 0.5\n",
            "The Value of h is 1.0 and the value of u is 0.5\n"
          ]
        }
      ]
    },
    {
      "cell_type": "markdown",
      "source": [
        "# printing the values of **coefficient** and **multiplier**"
      ],
      "metadata": {
        "id": "utKP8v5YCVcf"
      }
    },
    {
      "cell_type": "code",
      "source": [
        "print('----------------------------------------------------------------------')\n",
        "print(f'coefficient\\t\\t\\t Multiplier')\n",
        "print('----------------------------------------------------------------------')\n",
        "\n",
        "for i in range(-1, n - 1):\n",
        "    if i == -1:\n",
        "        coef = 1\n",
        "    else:\n",
        "        coef = coef_cal(i, u)\n",
        "    mul = y[0][i + 1]\n",
        "    print(\"%0.3f\\t\\t\\t\\t%f\" %(coef, mul))"
      ],
      "metadata": {
        "colab": {
          "base_uri": "https://localhost:8080/"
        },
        "id": "WOdmoQj5Bv39",
        "outputId": "668e0aeb-ed1a-470b-c4ef-3a6d61edcce3"
      },
      "execution_count": 14,
      "outputs": [
        {
          "output_type": "stream",
          "name": "stdout",
          "text": [
            "----------------------------------------------------------------------\n",
            "coefficient\t\t\t Multiplier\n",
            "----------------------------------------------------------------------\n",
            "1.000\t\t\t\t1.000000\n",
            "0.500\t\t\t\t1.000000\n",
            "-0.250\t\t\t\t8.000000\n",
            "0.375\t\t\t\t6.000000\n"
          ]
        }
      ]
    },
    {
      "cell_type": "markdown",
      "source": [
        "# Function to calculate **coefficient**"
      ],
      "metadata": {
        "id": "MhtQTi42Ccuh"
      }
    },
    {
      "cell_type": "code",
      "source": [
        "def coef_cal(n, u):\n",
        "    temp = u\n",
        "    if n == 0:\n",
        "        return temp\n",
        "    for i in range(1, n + 1):\n",
        "        temp *= (u - i)\n",
        "    return temp"
      ],
      "metadata": {
        "id": "7dXqnSNJIbfB"
      },
      "execution_count": 7,
      "outputs": []
    },
    {
      "cell_type": "markdown",
      "source": [
        "# Function to calculate the value of **polynomial** for enterted **interpolating point**"
      ],
      "metadata": {
        "id": "DMpD8GdZCi5T"
      }
    },
    {
      "cell_type": "code",
      "source": [
        "def final_cal():\n",
        "    sum = y[0][0]\n",
        "    for i in range(n - 1):\n",
        "        sum = sum + coef_cal(i, u)/np.math.factorial(i + 1)*y[0][i + 1]\n",
        "\n",
        "    print(sum)"
      ],
      "metadata": {
        "id": "1-3CT3oyIcKB"
      },
      "execution_count": 11,
      "outputs": []
    },
    {
      "cell_type": "markdown",
      "source": [
        "# Using special variable and creating main function"
      ],
      "metadata": {
        "id": "8nAsPxPGCwAr"
      }
    },
    {
      "cell_type": "code",
      "source": [
        "def main():\n",
        "    final_cal()\n",
        "\n",
        "if __name__ == '__main__':\n",
        "    main()"
      ],
      "metadata": {
        "colab": {
          "base_uri": "https://localhost:8080/"
        },
        "id": "SAyAYTl-Cq3n",
        "outputId": "30df54aa-edec-4e14-e266-232fb5cfd5cb"
      },
      "execution_count": 12,
      "outputs": [
        {
          "output_type": "stream",
          "name": "stdout",
          "text": [
            "0.875\n"
          ]
        }
      ]
    }
  ]
}