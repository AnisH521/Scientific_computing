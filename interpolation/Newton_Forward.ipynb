{
  "nbformat": 4,
  "nbformat_minor": 0,
  "metadata": {
    "colab": {
      "name": "Newton_Forward.ipynb",
      "provenance": [],
      "collapsed_sections": []
    },
    "kernelspec": {
      "name": "python3",
      "display_name": "Python 3"
    },
    "language_info": {
      "name": "python"
    }
  },
  "cells": [
    {
      "cell_type": "markdown",
      "source": [
        "#Importing necessary modules"
      ],
      "metadata": {
        "id": "Vk36ayo_dP0E"
      }
    },
    {
      "cell_type": "code",
      "source": [
        "import numpy as np\n",
        "import sympy as sym\n",
        "import matplotlib.pyplot as plt"
      ],
      "metadata": {
        "id": "7VtJrXGbdCuE"
      },
      "execution_count": 80,
      "outputs": []
    },
    {
      "cell_type": "markdown",
      "source": [
        "#Taking user input of number of records and creating **empty array** for storing **x** values and their **functional values**"
      ],
      "metadata": {
        "id": "eNlyqzajQc0Y"
      }
    },
    {
      "cell_type": "code",
      "source": [
        "n = int(input('How many records do you want to enter : '))\n",
        "\n",
        "x = np.empty([n])\n",
        "y = np.empty([n, n])\n",
        "\n",
        "x_axis = np.array([])\n",
        "y_axis = np.array([])\n",
        "\n",
        "expr = input('Enter the f(x) where f(x) = 0 in numpy notation : ')"
      ],
      "metadata": {
        "colab": {
          "base_uri": "https://localhost:8080/"
        },
        "id": "CxJpbTbOdZA-",
        "outputId": "bda7ca9f-4125-47b2-df5d-25f4cec6ddf1"
      },
      "execution_count": 81,
      "outputs": [
        {
          "name": "stdout",
          "output_type": "stream",
          "text": [
            "How many records do you want to enter : 5\n",
            "Enter the f(x) where f(x) = 0 in numpy notation : np.exp(2*x)\n"
          ]
        }
      ]
    },
    {
      "cell_type": "markdown",
      "source": [
        "# function to evaluate interpolating polynomial"
      ],
      "metadata": {
        "id": "_yncFuWuBTqi"
      }
    },
    {
      "cell_type": "code",
      "source": [
        "def f(x0, expr):\n",
        "    x = sym.symbols('x')\n",
        "    val = eval(expr, {\"x\": x0, \"np\": np})\n",
        "    return val"
      ],
      "metadata": {
        "id": "NX1OqPFv0KFi"
      },
      "execution_count": 82,
      "outputs": []
    },
    {
      "cell_type": "markdown",
      "source": [
        "# Taking user input of **x** values and their **functional values**"
      ],
      "metadata": {
        "id": "cJYG2UckRJ57"
      }
    },
    {
      "cell_type": "code",
      "source": [
        "for i in range(n):\n",
        "    x[i] = float(input(f'Enter the value of x{i} : '))\n",
        "    y[i][0] = f(x[i], expr)\n",
        "\n",
        "    x_axis = np.append(x_axis, x[i])\n",
        "    y_axis = np.append(y_axis, y[i][0])\n",
        "\n",
        "    print(f'The value of f({i}) : {y[i][0]}')"
      ],
      "metadata": {
        "colab": {
          "base_uri": "https://localhost:8080/"
        },
        "id": "Ze6V4n7_er4n",
        "outputId": "3117d77a-7c09-42e2-d5b2-e3368f96fdf8"
      },
      "execution_count": 83,
      "outputs": [
        {
          "output_type": "stream",
          "name": "stdout",
          "text": [
            "Enter the value of x0 : 0.1\n",
            "The value of f(0) : 1.2214027581601699\n",
            "Enter the value of x1 : .2\n",
            "The value of f(1) : 1.4918246976412703\n",
            "Enter the value of x2 : .3\n",
            "The value of f(2) : 1.8221188003905089\n",
            "Enter the value of x3 : .4\n",
            "The value of f(3) : 2.225540928492468\n",
            "Enter the value of x4 : .5\n",
            "The value of f(4) : 2.718281828459045\n"
          ]
        }
      ]
    },
    {
      "cell_type": "markdown",
      "source": [
        "# plotting the graph for values of **x** and **f(x)**"
      ],
      "metadata": {
        "id": "w7JyfaqO8RWp"
      }
    },
    {
      "cell_type": "code",
      "source": [
        "font1 = {'family':'monospace','color':'maroon','size':20}\n",
        "font2 = {'family':'monospace','color':'maroon','size':20}\n",
        "font3 = {'family':'sans-serif','color':'indianred','size':25}\n",
        "\n",
        "plt.plot(x_axis, y_axis, marker = '*')\n",
        "plt.title('Plot of Newton forward interpolation', fontdict = font3)\n",
        "plt.xlabel(\"X\", fontdict = font1)\n",
        "plt.ylabel(\"Y\", fontdict = font2)\n",
        "plt.show()"
      ],
      "metadata": {
        "colab": {
          "base_uri": "https://localhost:8080/",
          "height": 313
        },
        "id": "ouoeoC1D8PpT",
        "outputId": "dca92113-9e27-4eac-cc26-e2132c6527cd"
      },
      "execution_count": 91,
      "outputs": [
        {
          "output_type": "display_data",
          "data": {
            "text/plain": [
              "<Figure size 432x288 with 1 Axes>"
            ],
            "image/png": "[encoded data removed]"
          },
          "metadata": {
            "needs_background": "light"
          }
        }
      ]
    },
    {
      "cell_type": "markdown",
      "source": [
        "# Calculating and printing the **forward differnce table**"
      ],
      "metadata": {
        "id": "4kLoXN_FRq5o"
      }
    },
    {
      "cell_type": "code",
      "source": [
        "for i in range(1,n):\n",
        "    for j in range(n-i):\n",
        "        y[j][i] = y[j+1][i-1] - y[j][i-1]\n",
        "\n",
        "print('----------------------------------------------------------------------')\n",
        "print(f'x(i)\\t\\t y(i)\\t\\t y1(i)\\t\\t y2(i)\\t\\t y3(i)')\n",
        "print('----------------------------------------------------------------------')\n",
        "for i in range(n):\n",
        "    print('%0.2f' %(x[i]), end='')\n",
        "    for j in range(n-i):\n",
        "        print('\\t\\t%0.2f' %(y[i][j]), end='')\n",
        "    print()"
      ],
      "metadata": {
        "colab": {
          "base_uri": "https://localhost:8080/"
        },
        "id": "eGRKk6Jwp7Ay",
        "outputId": "e4d58106-cbbd-4ff4-f20d-4e8a021026a5"
      },
      "execution_count": 85,
      "outputs": [
        {
          "output_type": "stream",
          "name": "stdout",
          "text": [
            "----------------------------------------------------------------------\n",
            "x(i)\t\t y(i)\t\t y1(i)\t\t y2(i)\t\t y3(i)\n",
            "----------------------------------------------------------------------\n",
            "0.10\t\t1.22\t\t0.27\t\t0.06\t\t0.01\t\t0.00\n",
            "0.20\t\t1.49\t\t0.33\t\t0.07\t\t0.02\n",
            "0.30\t\t1.82\t\t0.40\t\t0.09\n",
            "0.40\t\t2.23\t\t0.49\n",
            "0.50\t\t2.72\n"
          ]
        }
      ]
    },
    {
      "cell_type": "markdown",
      "source": [
        "# calculating and printing the value of **h** and **u**"
      ],
      "metadata": {
        "id": "f2MDsrLXBrco"
      }
    },
    {
      "cell_type": "code",
      "source": [
        "val = float(input(f\"Enter value of x for finding f(x) : \"))\n",
        "h = x[1] - x[0]\n",
        "u = (val - x[0])/h\n",
        "print(f'The Value of h is {h} and the value of u is {u}')"
      ],
      "metadata": {
        "id": "eV_aSTDIhK7K",
        "colab": {
          "base_uri": "https://localhost:8080/"
        },
        "outputId": "4d104966-e903-4491-dfd4-c0cab63ad384"
      },
      "execution_count": 86,
      "outputs": [
        {
          "output_type": "stream",
          "name": "stdout",
          "text": [
            "Enter value of x for finding f(x) : .05\n",
            "The Value of h is 0.1 and the value of u is -0.5\n"
          ]
        }
      ]
    },
    {
      "cell_type": "markdown",
      "source": [
        "# printing the values of **coefficient** and **multiplier**"
      ],
      "metadata": {
        "id": "utKP8v5YCVcf"
      }
    },
    {
      "cell_type": "code",
      "source": [
        "print('----------------------------------------------------------------------')\n",
        "print(f'coefficient\\t\\t\\t Multiplier')\n",
        "print('----------------------------------------------------------------------')\n",
        "\n",
        "for i in range(-1, n - 1):\n",
        "    if i == -1:\n",
        "        coef = 1\n",
        "    else:\n",
        "        coef = coef_cal(i, u)\n",
        "    mul = y[0][i + 1]\n",
        "    print(\"%0.3f\\t\\t\\t\\t%f\" %(coef, mul))"
      ],
      "metadata": {
        "colab": {
          "base_uri": "https://localhost:8080/"
        },
        "id": "WOdmoQj5Bv39",
        "outputId": "f05ef05c-1ce3-44b1-b298-24c523dacc5f"
      },
      "execution_count": 88,
      "outputs": [
        {
          "output_type": "stream",
          "name": "stdout",
          "text": [
            "----------------------------------------------------------------------\n",
            "coefficient\t\t\t Multiplier\n",
            "----------------------------------------------------------------------\n",
            "1.000\t\t\t\t1.221403\n",
            "-0.500\t\t\t\t0.270422\n",
            "0.750\t\t\t\t0.059872\n",
            "-1.875\t\t\t\t0.013256\n",
            "6.562\t\t\t\t0.002935\n"
          ]
        }
      ]
    },
    {
      "cell_type": "markdown",
      "source": [
        "# Function to calculate **coefficient**"
      ],
      "metadata": {
        "id": "MhtQTi42Ccuh"
      }
    },
    {
      "cell_type": "code",
      "source": [
        "def coef_cal(n, u):\n",
        "    temp = u\n",
        "    if n == 0:\n",
        "        return temp\n",
        "    for i in range(1, n + 1):\n",
        "        temp *= (u - i)\n",
        "    return temp"
      ],
      "metadata": {
        "id": "7dXqnSNJIbfB"
      },
      "execution_count": 87,
      "outputs": []
    },
    {
      "cell_type": "markdown",
      "source": [
        "# Function to calculate the value of **polynomial** for enterted **interpolating point**"
      ],
      "metadata": {
        "id": "DMpD8GdZCi5T"
      }
    },
    {
      "cell_type": "code",
      "source": [
        "def final_cal():\n",
        "    sum = y[0][0]\n",
        "    for i in range(n - 1):\n",
        "        sum = sum + coef_cal(i, u)/np.math.factorial(i + 1)*y[0][i + 1]\n",
        "\n",
        "    return sum"
      ],
      "metadata": {
        "id": "1-3CT3oyIcKB"
      },
      "execution_count": 89,
      "outputs": []
    },
    {
      "cell_type": "markdown",
      "source": [
        "# Finally appending the values of **interpolating point** and value of **ploynomial** for plotting"
      ],
      "metadata": {
        "id": "6OYo3YXj-P5F"
      }
    },
    {
      "cell_type": "code",
      "source": [
        "sum = final_cal()\n",
        "\n",
        "x_axis = np.append(x_axis, val)\n",
        "y_axis = np.append(y_axis, sum)"
      ],
      "metadata": {
        "colab": {
          "base_uri": "https://localhost:8080/"
        },
        "id": "rGNv90PS9_Ll",
        "outputId": "d111d93f-fe87-4cde-c734-5e143b87fd90"
      },
      "execution_count": 90,
      "outputs": [
        {
          "output_type": "stream",
          "name": "stdout",
          "text": [
            "1.1053039002043332\n"
          ]
        }
      ]
    },
    {
      "cell_type": "markdown",
      "source": [
        "# Using special variable and creating main function"
      ],
      "metadata": {
        "id": "8nAsPxPGCwAr"
      }
    },
    {
      "cell_type": "code",
      "source": [
        "def main():\n",
        "    final_val = final_cal()\n",
        "    print(final_val)\n",
        "\n",
        "if __name__ == '__main__':\n",
        "    main()"
      ],
      "metadata": {
        "colab": {
          "base_uri": "https://localhost:8080/"
        },
        "id": "SAyAYTl-Cq3n",
        "outputId": "3e19e6e1-2538-4342-b9c5-9c9e9e709bf1"
      },
      "execution_count": 92,
      "outputs": [
        {
          "output_type": "stream",
          "name": "stdout",
          "text": [
            "1.1053039002043332\n"
          ]
        }
      ]
    }
  ]
}